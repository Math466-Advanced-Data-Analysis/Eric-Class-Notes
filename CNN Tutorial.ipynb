{
 "cells": [
  {
   "cell_type": "code",
   "execution_count": 83,
   "metadata": {},
   "outputs": [],
   "source": [
    "import torch\n",
    "import torch.nn as nn\n",
    "import torchvision\n",
    "from tqdm import tqdm"
   ]
  },
  {
   "cell_type": "code",
   "execution_count": 126,
   "metadata": {},
   "outputs": [],
   "source": [
    "train_batch_size = 16\n",
    "train = torchvision.datasets.MNIST('MNIST', train=True,\n",
    "                               transform=torchvision.transforms.ToTensor())\n",
    "test = torchvision.datasets.MNIST('MNIST', train=False, transform=torchvision.transforms.ToTensor())\n",
    "\n",
    "train_dataloader = torch.utils.data.DataLoader(train, batch_size=train_batch_size)\n",
    "test_dataloader = torch.utils.data.DataLoader(test)"
   ]
  },
  {
   "cell_type": "code",
   "execution_count": 6,
   "metadata": {},
   "outputs": [],
   "source": [
    "import matplotlib.pyplot as plt"
   ]
  },
  {
   "cell_type": "code",
   "execution_count": 20,
   "metadata": {},
   "outputs": [
    {
     "data": {
      "text/plain": [
       "<matplotlib.image.AxesImage at 0x7fc89b200890>"
      ]
     },
     "execution_count": 20,
     "metadata": {},
     "output_type": "execute_result"
    },
    {
     "data": {
      "image/png": "[encoded data removed]",
      "text/plain": [
       "<Figure size 432x288 with 1 Axes>"
      ]
     },
     "metadata": {
      "needs_background": "light"
     },
     "output_type": "display_data"
    }
   ],
   "source": [
    "plt.imshow(train[0][0].squeeze(0))"
   ]
  },
  {
   "cell_type": "code",
   "execution_count": 16,
   "metadata": {},
   "outputs": [
    {
     "data": {
      "text/plain": [
       "5"
      ]
     },
     "execution_count": 16,
     "metadata": {},
     "output_type": "execute_result"
    }
   ],
   "source": [
    "train[0][1]"
   ]
  },
  {
   "cell_type": "code",
   "execution_count": 24,
   "metadata": {},
   "outputs": [
    {
     "data": {
      "text/plain": [
       "784"
      ]
     },
     "execution_count": 24,
     "metadata": {},
     "output_type": "execute_result"
    }
   ],
   "source": [
    "28 * 28"
   ]
  },
  {
   "cell_type": "code",
   "execution_count": 158,
   "metadata": {},
   "outputs": [],
   "source": [
    "def flatten(x):\n",
    "    return x.view(x.shape[0], -1)\n",
    "\n",
    "class FirstNetwork(nn.Module):\n",
    "    \n",
    "    def __init__(self):\n",
    "        super(FirstNetwork, self).__init__()\n",
    "        self.first_layer = nn.Linear(784, 200)\n",
    "        self.second_layer = nn.Linear(200, 10)\n",
    "        \n",
    "    def forward(self, x):\n",
    "        logits = self.second_layer(nn.functional.relu(self.first_layer(flatten(x))))\n",
    "        return nn.functional.softmax(logits, dim=-1)\n",
    "    \n",
    "class ConvNet(nn.Module):\n",
    "    \n",
    "    def __init__(self):\n",
    "        super(ConvNet, self).__init__()\n",
    "        self.first_conv = nn.Conv2d(1, 5, kernel_size=3, padding=1)\n",
    "        self.MaxPool = nn.MaxPool2d(kernel_size=2, stride=2)\n",
    "        self.relu = nn.ReLU()\n",
    "        self.second_conv = nn.Conv2d(5, 5, kernel_size=3, padding=1)\n",
    "        self.final_layer = nn.Linear(245,10)\n",
    "        \n",
    "    def forward(self, x):\n",
    "        first_result = self.relu(self.MaxPool(self.first_conv(x)))\n",
    "        print(first_result.shape)\n",
    "        second_result = self.relu(self.MaxPool(self.second_conv(first_result)))\n",
    "        print(second_result.shape)\n",
    "        logits = self.final_layer(flatten(second_result))\n",
    "        return nn.functional.softmax(logits, dim=-1)\n",
    "    \n",
    "def get_accuracy(net, test_dataloader):\n",
    "    total = 0\n",
    "    correct = 0\n",
    "    with torch.no_grad():\n",
    "        for X, y in tqdm(test_dataloader):\n",
    "            output = torch.argmax(net(X)[0])\n",
    "            if output == y:\n",
    "                correct += 1\n",
    "            total += 1\n",
    "        return correct / total\n",
    "    "
   ]
  },
  {
   "cell_type": "code",
   "execution_count": 164,
   "metadata": {},
   "outputs": [
    {
     "name": "stderr",
     "output_type": "stream",
     "text": [
      "  0%|          | 0/3750 [00:00<?, ?it/s]"
     ]
    },
    {
     "name": "stdout",
     "output_type": "stream",
     "text": [
      "torch.Size([16, 5, 14, 14])\n",
      "torch.Size([16, 5, 7, 7])\n"
     ]
    },
    {
     "name": "stderr",
     "output_type": "stream",
     "text": [
      "\n"
     ]
    },
    {
     "ename": "RuntimeError",
     "evalue": "Boolean value of Tensor with more than one value is ambiguous",
     "output_type": "error",
     "traceback": [
      "\u001b[0;31m---------------------------------------------------------------------------\u001b[0m",
      "\u001b[0;31mRuntimeError\u001b[0m                              Traceback (most recent call last)",
      "\u001b[0;32m<ipython-input-164-df756b169be9>\u001b[0m in \u001b[0;36m<module>\u001b[0;34m\u001b[0m\n\u001b[0;32m----> 1\u001b[0;31m \u001b[0mget_accuracy\u001b[0m\u001b[0;34m(\u001b[0m\u001b[0mnet\u001b[0m\u001b[0;34m,\u001b[0m \u001b[0mtrain_dataloader\u001b[0m\u001b[0;34m)\u001b[0m\u001b[0;34m\u001b[0m\u001b[0;34m\u001b[0m\u001b[0m\n\u001b[0m",
      "\u001b[0;32m<ipython-input-158-7b4491aeb7cd>\u001b[0m in \u001b[0;36mget_accuracy\u001b[0;34m(net, test_dataloader)\u001b[0m\n\u001b[1;32m     37\u001b[0m         \u001b[0;32mfor\u001b[0m \u001b[0mX\u001b[0m\u001b[0;34m,\u001b[0m \u001b[0my\u001b[0m \u001b[0;32min\u001b[0m \u001b[0mtqdm\u001b[0m\u001b[0;34m(\u001b[0m\u001b[0mtest_dataloader\u001b[0m\u001b[0;34m)\u001b[0m\u001b[0;34m:\u001b[0m\u001b[0;34m\u001b[0m\u001b[0;34m\u001b[0m\u001b[0m\n\u001b[1;32m     38\u001b[0m             \u001b[0moutput\u001b[0m \u001b[0;34m=\u001b[0m \u001b[0mtorch\u001b[0m\u001b[0;34m.\u001b[0m\u001b[0margmax\u001b[0m\u001b[0;34m(\u001b[0m\u001b[0mnet\u001b[0m\u001b[0;34m(\u001b[0m\u001b[0mX\u001b[0m\u001b[0;34m)\u001b[0m\u001b[0;34m[\u001b[0m\u001b[0;36m0\u001b[0m\u001b[0;34m]\u001b[0m\u001b[0;34m)\u001b[0m\u001b[0;34m\u001b[0m\u001b[0;34m\u001b[0m\u001b[0m\n\u001b[0;32m---> 39\u001b[0;31m             \u001b[0;32mif\u001b[0m \u001b[0moutput\u001b[0m \u001b[0;34m==\u001b[0m \u001b[0my\u001b[0m\u001b[0;34m:\u001b[0m\u001b[0;34m\u001b[0m\u001b[0;34m\u001b[0m\u001b[0m\n\u001b[0m\u001b[1;32m     40\u001b[0m                 \u001b[0mcorrect\u001b[0m \u001b[0;34m+=\u001b[0m \u001b[0;36m1\u001b[0m\u001b[0;34m\u001b[0m\u001b[0;34m\u001b[0m\u001b[0m\n\u001b[1;32m     41\u001b[0m             \u001b[0mtotal\u001b[0m \u001b[0;34m+=\u001b[0m \u001b[0;36m1\u001b[0m\u001b[0;34m\u001b[0m\u001b[0;34m\u001b[0m\u001b[0m\n",
      "\u001b[0;31mRuntimeError\u001b[0m: Boolean value of Tensor with more than one value is ambiguous"
     ]
    }
   ],
   "source": [
    "get_accuracy(net, train_dataloader)"
   ]
  },
  {
   "cell_type": "code",
   "execution_count": 162,
   "metadata": {},
   "outputs": [],
   "source": [
    "net = ConvNet()#FirstNetwork()\n",
    "optimizer = torch.optim.SGD(net.parameters(), lr=3e-5)\n",
    "losses = []"
   ]
  },
  {
   "cell_type": "code",
   "execution_count": 151,
   "metadata": {},
   "outputs": [
    {
     "name": "stderr",
     "output_type": "stream",
     "text": [
      "100%|██████████| 3750/3750 [00:20<00:00, 179.83it/s]\n"
     ]
    }
   ],
   "source": [
    "for X, y in tqdm(train_dataloader):\n",
    "    optimizer.zero_grad()\n",
    "    output = net(X)\n",
    "    loss = torch.sum(-1 * torch.log(output.gather(1, y.reshape(-1, 1)))) / train_batch_size\n",
    "    loss.backward()\n",
    "    optimizer.step()\n",
    "    losses.append(loss.detach())"
   ]
  },
  {
   "cell_type": "code",
   "execution_count": 152,
   "metadata": {},
   "outputs": [
    {
     "data": {
      "text/plain": [
       "[<matplotlib.lines.Line2D at 0x7fc87cf69910>]"
      ]
     },
     "execution_count": 152,
     "metadata": {},
     "output_type": "execute_result"
    },
    {
     "data": {
      "image/png": "[encoded data removed]",
      "text/plain": [
       "<Figure size 432x288 with 1 Axes>"
      ]
     },
     "metadata": {
      "needs_background": "light"
     },
     "output_type": "display_data"
    }
   ],
   "source": [
    "plt.plot(losses)"
   ]
  },
  {
   "cell_type": "code",
   "execution_count": 101,
   "metadata": {},
   "outputs": [
    {
     "name": "stderr",
     "output_type": "stream",
     "text": [
      "  0%|          | 0/3750 [00:00<?, ?it/s]\n"
     ]
    }
   ],
   "source": [
    "losses = []\n",
    "for X, y in tqdm(train_dataloader):\n",
    "    for _ in range(800):\n",
    "        optimizer.zero_grad()\n",
    "        output = net(X)\n",
    "\n",
    "        loss = torch.sum(-1 * torch.log(output.gather(1, y.reshape(-1, 1))))\n",
    "        loss.backward()\n",
    "        optimizer.step()\n",
    "        losses.append(loss.detach())\n",
    "    break"
   ]
  },
  {
   "cell_type": "code",
   "execution_count": 102,
   "metadata": {},
   "outputs": [
    {
     "data": {
      "text/plain": [
       "[<matplotlib.lines.Line2D at 0x7fc87c880810>]"
      ]
     },
     "execution_count": 102,
     "metadata": {},
     "output_type": "execute_result"
    },
    {
     "data": {
      "image/png": "[encoded data removed]",
      "text/plain": [
       "<Figure size 432x288 with 1 Axes>"
      ]
     },
     "metadata": {
      "needs_background": "light"
     },
     "output_type": "display_data"
    }
   ],
   "source": [
    "plt.plot(losses)"
   ]
  },
  {
   "cell_type": "code",
   "execution_count": 103,
   "metadata": {},
   "outputs": [
    {
     "data": {
      "text/plain": [
       "tensor([[5.2298e-04, 9.2800e-06, 4.0658e-04, 8.5075e-03, 2.2015e-08, 9.8976e-01,\n",
       "         3.3538e-06, 6.8154e-04, 3.2333e-05, 7.4302e-05],\n",
       "        [9.9918e-01, 1.4679e-09, 2.8591e-05, 2.0843e-06, 3.5530e-09, 7.7959e-04,\n",
       "         3.7940e-07, 8.8445e-06, 9.3074e-07, 1.7926e-06],\n",
       "        [2.1513e-04, 1.2741e-04, 2.8226e-03, 7.3932e-03, 9.7037e-01, 7.1998e-04,\n",
       "         1.6652e-03, 2.7596e-03, 7.4508e-04, 1.3181e-02],\n",
       "        [2.9054e-06, 9.8995e-01, 3.2398e-03, 2.9175e-04, 3.2482e-05, 3.3432e-04,\n",
       "         1.0298e-04, 3.4576e-04, 5.6725e-03, 2.9731e-05],\n",
       "        [5.1394e-07, 1.7638e-05, 1.7019e-06, 2.2326e-06, 9.2074e-03, 2.3919e-05,\n",
       "         4.9540e-06, 1.4322e-02, 2.4426e-04, 9.7618e-01],\n",
       "        [4.2161e-04, 2.9302e-06, 9.9667e-01, 2.4537e-04, 1.0240e-06, 2.4218e-04,\n",
       "         5.3933e-06, 6.2361e-04, 6.0840e-04, 1.1758e-03],\n",
       "        [3.3856e-09, 9.9920e-01, 4.9390e-05, 3.7129e-04, 1.0918e-06, 1.0225e-04,\n",
       "         9.5268e-06, 3.9299e-05, 2.0354e-04, 2.1473e-05],\n",
       "        [1.7522e-04, 5.5916e-07, 3.6090e-04, 9.9563e-01, 2.8892e-07, 1.3936e-03,\n",
       "         8.6860e-09, 1.7484e-05, 6.9470e-04, 1.7245e-03],\n",
       "        [1.4916e-06, 9.9010e-01, 2.6413e-04, 1.5594e-03, 4.0419e-05, 2.4058e-03,\n",
       "         1.5558e-04, 1.9031e-03, 2.3848e-03, 1.1830e-03],\n",
       "        [2.9779e-06, 1.6982e-06, 5.3423e-05, 6.2832e-07, 9.9880e-01, 4.5740e-04,\n",
       "         5.1956e-04, 1.4384e-05, 3.6845e-05, 1.1750e-04],\n",
       "        [3.1468e-05, 1.8195e-04, 1.5283e-04, 9.8916e-01, 4.7693e-08, 6.1611e-03,\n",
       "         2.1409e-07, 1.9722e-04, 9.5445e-04, 3.1602e-03],\n",
       "        [1.4864e-03, 8.9880e-03, 1.0659e-02, 3.7124e-04, 2.3033e-03, 9.5682e-01,\n",
       "         1.8546e-03, 3.9057e-05, 1.7462e-02, 1.2193e-05],\n",
       "        [4.2589e-07, 1.3613e-06, 6.4251e-06, 9.9881e-01, 2.8261e-09, 1.1718e-03,\n",
       "         7.6787e-10, 1.7635e-06, 3.1833e-06, 7.5539e-07],\n",
       "        [1.0667e-05, 4.9351e-06, 1.5390e-03, 3.8745e-07, 3.1677e-03, 4.8877e-04,\n",
       "         9.9458e-01, 6.5711e-06, 9.3566e-05, 1.0998e-04],\n",
       "        [1.7050e-06, 9.8893e-01, 2.5773e-04, 6.1616e-04, 1.3414e-05, 3.9304e-03,\n",
       "         3.7540e-04, 3.9364e-04, 5.2384e-03, 2.3834e-04],\n",
       "        [1.9008e-06, 5.6607e-08, 4.6686e-07, 2.7233e-07, 5.5179e-05, 6.0548e-06,\n",
       "         1.3184e-08, 9.8743e-01, 4.3517e-06, 1.2506e-02]],\n",
       "       grad_fn=<SoftmaxBackward>)"
      ]
     },
     "execution_count": 103,
     "metadata": {},
     "output_type": "execute_result"
    }
   ],
   "source": [
    "net(X)"
   ]
  },
  {
   "cell_type": "code",
   "execution_count": null,
   "metadata": {},
   "outputs": [],
   "source": []
  }
 ],
 "metadata": {
  "kernelspec": {
   "display_name": "Python [conda env:root] *",
   "language": "python",
   "name": "conda-root-py"
  },
  "language_info": {
   "codemirror_mode": {
    "name": "ipython",
    "version": 3
   },
   "file_extension": ".py",
   "mimetype": "text/x-python",
   "name": "python",
   "nbconvert_exporter": "python",
   "pygments_lexer": "ipython3",
   "version": "3.7.6"
  }
 },
 "nbformat": 4,
 "nbformat_minor": 4
}
